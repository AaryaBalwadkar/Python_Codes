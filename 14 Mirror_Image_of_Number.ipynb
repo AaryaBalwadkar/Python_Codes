{
 "cells": [
  {
   "cell_type": "code",
   "execution_count": 7,
   "id": "554cb897",
   "metadata": {},
   "outputs": [
    {
     "name": "stdout",
     "output_type": "stream",
     "text": [
      "Enter a number : 7346327\n",
      "Mirror Image of given number : 7236437"
     ]
    }
   ],
   "source": [
    "number=int(input(\"Enter a number : \"))\n",
    "list_of_digits=[]\n",
    "def Mirror_Image():\n",
    "    num=str(number)\n",
    "    for i in range(len(num)):\n",
    "        list_of_digits.append(int(num[i]))\n",
    "        \n",
    "    reverse=list_of_digits[::-1]\n",
    "    print(\"Mirror Image of given number : \",end=\"\")\n",
    "    for i in range(len(num)):\n",
    "        print(reverse[i],end=\"\")\n",
    "    \n",
    "Mirror_Image()"
   ]
  }
 ],
 "metadata": {
  "kernelspec": {
   "display_name": "Python 3",
   "language": "python",
   "name": "python3"
  },
  "language_info": {
   "codemirror_mode": {
    "name": "ipython",
    "version": 3
   },
   "file_extension": ".py",
   "mimetype": "text/x-python",
   "name": "python",
   "nbconvert_exporter": "python",
   "pygments_lexer": "ipython3",
   "version": "3.8.8"
  }
 },
 "nbformat": 4,
 "nbformat_minor": 5
}
