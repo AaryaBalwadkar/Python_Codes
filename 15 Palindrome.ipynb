{
 "cells": [
  {
   "cell_type": "code",
   "execution_count": 4,
   "id": "7cda9056",
   "metadata": {},
   "outputs": [
    {
     "name": "stdout",
     "output_type": "stream",
     "text": [
      "Enter a number : 45354\n",
      "45354 is a Palindrome\n"
     ]
    }
   ],
   "source": [
    "def Palindrome():\n",
    "    digit_list=[]\n",
    "    num=str(number)\n",
    "    for i in range(len(num)):\n",
    "        digit_list.append(num[i])\n",
    "    \n",
    "    reverse_num=\"\"\n",
    "    reverse_digit_list=digit_list[::-1]\n",
    "    for i in range(len(reverse_digit_list)):\n",
    "        reverse_num+=reverse_digit_list[i]\n",
    "        \n",
    "    if int(num)==int(reverse_num):\n",
    "        print(f\"{number} is a Palindrome\")\n",
    "    else:\n",
    "        print(f\"{number} is NOT a Palindrome\")\n",
    "        \n",
    "\n",
    "number=int(input(\"Enter a number : \"))        \n",
    "Palindrome()"
   ]
  }
 ],
 "metadata": {
  "kernelspec": {
   "display_name": "Python 3",
   "language": "python",
   "name": "python3"
  },
  "language_info": {
   "codemirror_mode": {
    "name": "ipython",
    "version": 3
   },
   "file_extension": ".py",
   "mimetype": "text/x-python",
   "name": "python",
   "nbconvert_exporter": "python",
   "pygments_lexer": "ipython3",
   "version": "3.8.8"
  }
 },
 "nbformat": 4,
 "nbformat_minor": 5
}
