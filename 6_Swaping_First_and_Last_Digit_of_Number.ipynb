{
 "cells": [
  {
   "cell_type": "code",
   "execution_count": 13,
   "id": "14d3955e",
   "metadata": {},
   "outputs": [
    {
     "name": "stdout",
     "output_type": "stream",
     "text": [
      "Enter a number : 786868658\n",
      "Swapped number :886868657"
     ]
    }
   ],
   "source": [
    "number=int(input(\"Enter a number : \"))\n",
    "list_of_digits=[]\n",
    "def Swap():\n",
    "    num=str(number)\n",
    "    for i in range(len(num)):\n",
    "        list_of_digits.append(int(num[i]))\n",
    "    \n",
    "    Temp=list_of_digits[0]\n",
    "    list_of_digits[0]=list_of_digits[-1]\n",
    "    list_of_digits[-1]=Temp\n",
    "    \n",
    "    print(\"Swapped number :\",end=\"\")\n",
    "    for i in range(len(list_of_digits)):\n",
    "        print(list_of_digits[i],end=\"\")\n",
    "\n",
    "Swap()"
   ]
  }
 ],
 "metadata": {
  "kernelspec": {
   "display_name": "Python 3",
   "language": "python",
   "name": "python3"
  },
  "language_info": {
   "codemirror_mode": {
    "name": "ipython",
    "version": 3
   },
   "file_extension": ".py",
   "mimetype": "text/x-python",
   "name": "python",
   "nbconvert_exporter": "python",
   "pygments_lexer": "ipython3",
   "version": "3.8.8"
  }
 },
 "nbformat": 4,
 "nbformat_minor": 5
}
