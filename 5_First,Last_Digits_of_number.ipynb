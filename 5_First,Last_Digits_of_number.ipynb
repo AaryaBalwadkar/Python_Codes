{
 "cells": [
  {
   "cell_type": "code",
   "execution_count": 2,
   "id": "78ff3b1b",
   "metadata": {},
   "outputs": [
    {
     "name": "stdout",
     "output_type": "stream",
     "text": [
      "Enter a number : 1234\n",
      "first number is 1\n",
      "last number is 4\n"
     ]
    }
   ],
   "source": [
    "number=int(input(\"Enter a number : \"))\n",
    "def first_and_last_digit(): \n",
    "    num=str(number) \n",
    "    print(f\"first number is\",num[0])  \n",
    "    print(f\"last number is\",num[-1])  \n",
    "        \n",
    "first_and_last_digit()"
   ]
  }
 ],
 "metadata": {
  "kernelspec": {
   "display_name": "Python 3",
   "language": "python",
   "name": "python3"
  },
  "language_info": {
   "codemirror_mode": {
    "name": "ipython",
    "version": 3
   },
   "file_extension": ".py",
   "mimetype": "text/x-python",
   "name": "python",
   "nbconvert_exporter": "python",
   "pygments_lexer": "ipython3",
   "version": "3.8.8"
  }
 },
 "nbformat": 4,
 "nbformat_minor": 5
}
