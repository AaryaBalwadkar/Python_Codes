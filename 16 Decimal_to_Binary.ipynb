{
 "cells": [
  {
   "cell_type": "code",
   "execution_count": 12,
   "id": "b088350d",
   "metadata": {},
   "outputs": [
    {
     "name": "stdout",
     "output_type": "stream",
     "text": [
      "Enter a number : 10.10\n",
      "(Decimal) 1010.0001100110 (Binary)\n"
     ]
    }
   ],
   "source": [
    "def integerdecimal_to_binary():\n",
    "    num=int(number)\n",
    "    remainder_list=[]\n",
    "    while num!=0:\n",
    "        remainder=num%2\n",
    "        remainder_list.append(remainder)\n",
    "        num=num//2\n",
    "        \n",
    "    reverse_remainder_list=remainder_list[::-1]\n",
    "    print(\"(Decimal) \",end=\"\")\n",
    "    for i in range(len(reverse_remainder_list)):\n",
    "        print(reverse_remainder_list[i],end=\"\")\n",
    "\n",
    "def fractionaldecimal_to_binary():\n",
    "    fractional_num=number%1\n",
    "    if fractional_num!=0:\n",
    "        \n",
    "        fractional_list=[]\n",
    "        for i in range(10):\n",
    "            fractional_num=fractional_num*2\n",
    "            if fractional_num==0:\n",
    "                break\n",
    "            elif fractional_num>1:\n",
    "                fractional_list.append(1)\n",
    "                fractional_num=fractional_num-1\n",
    "            else:\n",
    "                fractional_list.append(0)\n",
    "    \n",
    "        print(\".\",end=\"\")\n",
    "        for i in range(len(fractional_list)):\n",
    "            print(fractional_list[i],end=\"\")\n",
    "        \n",
    "    print(\" (Binary)\")\n",
    "number=float(input(\"Enter a number : \"))\n",
    "integerdecimal_to_binary()\n",
    "fractionaldecimal_to_binary()\n"
   ]
  }
 ],
 "metadata": {
  "kernelspec": {
   "display_name": "Python 3",
   "language": "python",
   "name": "python3"
  },
  "language_info": {
   "codemirror_mode": {
    "name": "ipython",
    "version": 3
   },
   "file_extension": ".py",
   "mimetype": "text/x-python",
   "name": "python",
   "nbconvert_exporter": "python",
   "pygments_lexer": "ipython3",
   "version": "3.8.8"
  }
 },
 "nbformat": 4,
 "nbformat_minor": 5
}
