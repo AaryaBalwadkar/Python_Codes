{
 "cells": [
  {
   "cell_type": "code",
   "execution_count": 3,
   "id": "5873db78-b982-4a31-a8d7-9d403e784eaa",
   "metadata": {},
   "outputs": [
    {
     "name": "stdout",
     "output_type": "stream",
     "text": [
      "Enter temperature in Celsius:37\n",
      "Temperature in faherheit: 98.6\n",
      "It is a normal body temperature\n"
     ]
    }
   ],
   "source": [
    "#To check the given temperature in celcius is a normal body temperature in faherenheit or not\n",
    "c=float(input(\"Enter temperature in Celsius:\"))\n",
    "f=(c*9/5)+32\n",
    "print(\"Temperature in faherheit:\",f)\n",
    "if(f==97.1 or f==97.2 or f==97.3 or f==97.4 or f==97.5 or f==97.6 or f==97.7 or f==97.8 or f==97.9 or f==98.0 or f==98.1 or f==98.2 or f==98.3 or f==98.4 or f==98.5 or f==98.6 or f==98.7 or f==98.8 or f==98.9 or f==99.0):\n",
    "    print(\"It is a normal body temperature\")\n",
    "else:\n",
    "    print(\"It is not a normal body temperature\")"
   ]
  }
 ],
 "metadata": {
  "kernelspec": {
   "display_name": "Python 3",
   "language": "python",
   "name": "python3"
  },
  "language_info": {
   "codemirror_mode": {
    "name": "ipython",
    "version": 3
   },
   "file_extension": ".py",
   "mimetype": "text/x-python",
   "name": "python",
   "nbconvert_exporter": "python",
   "pygments_lexer": "ipython3",
   "version": "3.8.8"
  }
 },
 "nbformat": 4,
 "nbformat_minor": 5
}
