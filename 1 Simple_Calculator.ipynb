{
 "cells": [
  {
   "cell_type": "code",
   "execution_count": 2,
   "id": "4f04c2d5-4d2a-4f36-9f1e-8dd4a2dfdc97",
   "metadata": {},
   "outputs": [
    {
     "name": "stdout",
     "output_type": "stream",
     "text": [
      "Enter a number:10\n",
      "Enter a number:5\n",
      "sum= 15\n",
      "diff= 5\n",
      "product= 50\n",
      "qoutient= 2.0\n"
     ]
    }
   ],
   "source": [
    "#A calculator to calculate sum, difference, product and quotient of two numbers.\n",
    "n1=int(input(\"Enter a number:\"))\n",
    "n2=int(input(\"Enter a number:\"))\n",
    "sum=n1+n2\n",
    "diff=n1-n2\n",
    "product=n1*n2\n",
    "quotient=n1/n2\n",
    "print(\"sum=\",sum)\n",
    "print(\"diff=\",diff)\n",
    "print(\"product=\",product)\n",
    "print(\"qoutient=\",quotientw)"
   ]
  },
  {
   "cell_type": "code",
   "execution_count": null,
   "id": "a4b11c70-7d03-48ac-88da-c4232bdd34bd",
   "metadata": {},
   "outputs": [],
   "source": []
  }
 ],
 "metadata": {
  "kernelspec": {
   "display_name": "Python 3",
   "language": "python",
   "name": "python3"
  },
  "language_info": {
   "codemirror_mode": {
    "name": "ipython",
    "version": 3
   },
   "file_extension": ".py",
   "mimetype": "text/x-python",
   "name": "python",
   "nbconvert_exporter": "python",
   "pygments_lexer": "ipython3",
   "version": "3.8.8"
  }
 },
 "nbformat": 4,
 "nbformat_minor": 5
}
